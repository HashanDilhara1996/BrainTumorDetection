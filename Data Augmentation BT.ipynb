{
 "cells": [
  {
   "cell_type": "code",
   "execution_count": 3,
   "id": "81940b47",
   "metadata": {},
   "outputs": [],
   "source": [
    "import numpy as np \n",
    "import pandas as pd \n",
    "import os\n",
    "from os import listdir\n",
    "import tensorflow as tf\n",
    "from keras.preprocessing.image import ImageDataGenerator\n",
    "import cv2\n",
    "import matplotlib.pyplot as plt\n",
    "%matplotlib inline\n",
    "import imutils\n",
    "import time"
   ]
  },
  {
   "cell_type": "code",
   "execution_count": 4,
   "id": "58cf79c7",
   "metadata": {},
   "outputs": [],
   "source": [
    "image_dir=\"./brain_tumor_dataset/\""
   ]
  },
  {
   "cell_type": "code",
   "execution_count": 5,
   "id": "c14d5b3c",
   "metadata": {},
   "outputs": [],
   "source": [
    "#Making directories for augmented images\n",
    "os.makedirs('./brain_tumor_dataset/augmented-images')\n",
    "os.makedirs('./brain_tumor_dataset/augmented-images/yes')\n",
    "os.makedirs('./brain_tumor_dataset/augmented-images/no')"
   ]
  },
  {
   "cell_type": "code",
   "execution_count": 6,
   "id": "2f70a576",
   "metadata": {},
   "outputs": [],
   "source": [
    "def augmenting_data(file_dir, n_generated_samples, save_to_dir):\n",
    "    data_gen = ImageDataGenerator(rotation_range=10, \n",
    "                                  width_shift_range=0.1, \n",
    "                                  height_shift_range=0.1, \n",
    "                                  shear_range=0.1, \n",
    "                                  brightness_range=(0.3, 1.0),\n",
    "                                  horizontal_flip=True, \n",
    "                                  vertical_flip=True, \n",
    "                                  fill_mode='nearest'\n",
    "                                 )\n",
    "\n",
    "    for filename in listdir(file_dir):\n",
    "        image = cv2.imread(file_dir + '/' + filename)\n",
    "        # reshape the image\n",
    "        image = image.reshape((1,)+image.shape)\n",
    "        save_prefix = 'aug_' + filename[:-4]\n",
    "        i=0\n",
    "        for batch in data_gen.flow(x=image, batch_size=1, save_to_dir=save_to_dir,save_prefix=save_prefix, save_format='jpg'):\n",
    "                i += 1\n",
    "                if i > n_generated_samples:\n",
    "                    break"
   ]
  },
  {
   "cell_type": "code",
   "execution_count": 7,
   "id": "e3e72acd",
   "metadata": {},
   "outputs": [],
   "source": [
    "def hms_string(sec_elapsed):\n",
    "    h = int(sec_elapsed / (60 * 60))\n",
    "    m = int((sec_elapsed % (60 * 60)) / 60)\n",
    "    s = sec_elapsed % 60.\n",
    "    return \"{}:{:>02}:{:>05.2f}\".format(h, m, s)"
   ]
  },
  {
   "cell_type": "code",
   "execution_count": 8,
   "id": "c53ec1c8",
   "metadata": {},
   "outputs": [
    {
     "name": "stdout",
     "output_type": "stream",
     "text": [
      "Elapsed Time: 0:01:27.57\n"
     ]
    }
   ],
   "source": [
    "#Generating samples for augmented data\n",
    "start_time = time.time()\n",
    "\n",
    "augmented_data_path ='./brain_tumor_dataset/augmented-images/'\n",
    "\n",
    "# augment data for label equal to 'yes' representing tumurous examples\n",
    "augmenting_data(file_dir=image_dir+'yes',n_generated_samples=6, save_to_dir=augmented_data_path+'yes')\n",
    "\n",
    "# augment data for label equal to 'no' representing non-tumurous examples\n",
    "augmenting_data(file_dir=image_dir+'no', n_generated_samples=9, save_to_dir=augmented_data_path+'no')\n",
    "\n",
    "end_time = time.time()\n",
    "execution_time = (end_time - start_time)\n",
    "print(f\"Elapsed Time: {format(hms_string(execution_time))}\")"
   ]
  },
  {
   "cell_type": "code",
   "execution_count": 9,
   "id": "ed449ad1",
   "metadata": {},
   "outputs": [],
   "source": [
    "augmented_data_path ='./brain_tumor_dataset/augmented-images/'"
   ]
  },
  {
   "cell_type": "code",
   "execution_count": null,
   "id": "5f26abb9",
   "metadata": {},
   "outputs": [],
   "source": []
  }
 ],
 "metadata": {
  "kernelspec": {
   "display_name": "Python 3",
   "language": "python",
   "name": "python3"
  },
  "language_info": {
   "codemirror_mode": {
    "name": "ipython",
    "version": 3
   },
   "file_extension": ".py",
   "mimetype": "text/x-python",
   "name": "python",
   "nbconvert_exporter": "python",
   "pygments_lexer": "ipython3",
   "version": "3.8.8"
  }
 },
 "nbformat": 4,
 "nbformat_minor": 5
}
