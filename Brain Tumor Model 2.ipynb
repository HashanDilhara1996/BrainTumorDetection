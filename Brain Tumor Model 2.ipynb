{
 "cells": [
  {
   "cell_type": "code",
   "execution_count": 1,
   "id": "effc85a7",
   "metadata": {},
   "outputs": [],
   "source": [
    "import os\n",
    "import keras \n",
    "from keras.models import Sequential\n",
    "from keras.layers import Conv2D, MaxPooling2D, Flatten, Dense, Dropout, BatchNormalization\n",
    "from PIL import Image\n",
    "import numpy as np\n",
    "import pandas as pd\n",
    "import matplotlib.pyplot as plt\n",
    "from sklearn.model_selection import train_test_split\n",
    "from sklearn.preprocessing import OneHotEncoder"
   ]
  },
  {
   "cell_type": "code",
   "execution_count": 2,
   "id": "65020da8",
   "metadata": {},
   "outputs": [
    {
     "data": {
      "text/plain": [
       "OneHotEncoder()"
      ]
     },
     "execution_count": 2,
     "metadata": {},
     "output_type": "execute_result"
    }
   ],
   "source": [
    "encoder = OneHotEncoder()\n",
    "encoder.fit([[0], [1]]) \n",
    "\n",
    "# 0 - Tumor\n",
    "# 1 - Non Tumor"
   ]
  },
  {
   "cell_type": "code",
   "execution_count": 7,
   "id": "f48ebe51",
   "metadata": {},
   "outputs": [],
   "source": [
    "# This cell updates result list for images with tumor\n",
    "\n",
    "data = []\n",
    "paths = []\n",
    "result = []\n",
    "\n",
    "for r, d, f in os.walk(r'./brain_tumor_dataset/augmented-images/yes'):\n",
    "    for file in f:\n",
    "        if '.jpg' in file:\n",
    "            paths.append(os.path.join(r, file))\n",
    "\n",
    "for path in paths:\n",
    "    img = Image.open(path)\n",
    "    img = img.resize((128,128))\n",
    "    img = np.array(img)\n",
    "    if(img.shape == (128,128,3)):\n",
    "        data.append(np.array(img))\n",
    "        result.append(encoder.transform([[0]]).toarray())"
   ]
  },
  {
   "cell_type": "code",
   "execution_count": 8,
   "id": "24e76895",
   "metadata": {},
   "outputs": [],
   "source": [
    "# This cell updates result list for images without tumor\n",
    "\n",
    "paths = []\n",
    "for r, d, f in os.walk(r\"./brain_tumor_dataset/augmented-images/no\"):\n",
    "    for file in f:\n",
    "        if '.jpg' in file:\n",
    "            paths.append(os.path.join(r, file))\n",
    "\n",
    "for path in paths:\n",
    "    img = Image.open(path)\n",
    "    img = img.resize((128,128))\n",
    "    img = np.array(img)\n",
    "    if(img.shape == (128,128,3)):\n",
    "        data.append(np.array(img))\n",
    "        result.append(encoder.transform([[1]]).toarray())"
   ]
  },
  {
   "cell_type": "code",
   "execution_count": 9,
   "id": "5399c4e4",
   "metadata": {},
   "outputs": [
    {
     "data": {
      "text/plain": [
       "(2064, 128, 128, 3)"
      ]
     },
     "execution_count": 9,
     "metadata": {},
     "output_type": "execute_result"
    }
   ],
   "source": [
    "data = np.array(data)\n",
    "data.shape"
   ]
  },
  {
   "cell_type": "code",
   "execution_count": 10,
   "id": "6d4ddff2",
   "metadata": {},
   "outputs": [],
   "source": [
    "result = np.array(result)\n",
    "result = result.reshape(2064,2)"
   ]
  },
  {
   "cell_type": "code",
   "execution_count": 11,
   "id": "aefd0790",
   "metadata": {},
   "outputs": [],
   "source": [
    "x_train,x_test,y_train,y_test = train_test_split(data, result, test_size=0.2, shuffle=True, random_state=0)"
   ]
  },
  {
   "cell_type": "markdown",
   "id": "5b7f6a5f",
   "metadata": {},
   "source": [
    "# Model Building"
   ]
  },
  {
   "cell_type": "code",
   "execution_count": 12,
   "id": "63aec287",
   "metadata": {},
   "outputs": [
    {
     "name": "stdout",
     "output_type": "stream",
     "text": [
      "Model: \"sequential\"\n",
      "_________________________________________________________________\n",
      " Layer (type)                Output Shape              Param #   \n",
      "=================================================================\n",
      " conv2d (Conv2D)             (None, 128, 128, 32)      416       \n",
      "                                                                 \n",
      " conv2d_1 (Conv2D)           (None, 128, 128, 32)      4128      \n",
      "                                                                 \n",
      " batch_normalization (BatchN  (None, 128, 128, 32)     128       \n",
      " ormalization)                                                   \n",
      "                                                                 \n",
      " max_pooling2d (MaxPooling2D  (None, 64, 64, 32)       0         \n",
      " )                                                               \n",
      "                                                                 \n",
      " dropout (Dropout)           (None, 64, 64, 32)        0         \n",
      "                                                                 \n",
      " conv2d_2 (Conv2D)           (None, 64, 64, 64)        8256      \n",
      "                                                                 \n",
      " conv2d_3 (Conv2D)           (None, 64, 64, 64)        16448     \n",
      "                                                                 \n",
      " batch_normalization_1 (Batc  (None, 64, 64, 64)       256       \n",
      " hNormalization)                                                 \n",
      "                                                                 \n",
      " max_pooling2d_1 (MaxPooling  (None, 32, 32, 64)       0         \n",
      " 2D)                                                             \n",
      "                                                                 \n",
      " dropout_1 (Dropout)         (None, 32, 32, 64)        0         \n",
      "                                                                 \n",
      " flatten (Flatten)           (None, 65536)             0         \n",
      "                                                                 \n",
      " dense (Dense)               (None, 512)               33554944  \n",
      "                                                                 \n",
      " dropout_2 (Dropout)         (None, 512)               0         \n",
      "                                                                 \n",
      " dense_1 (Dense)             (None, 2)                 1026      \n",
      "                                                                 \n",
      "=================================================================\n",
      "Total params: 33,585,602\n",
      "Trainable params: 33,585,410\n",
      "Non-trainable params: 192\n",
      "_________________________________________________________________\n",
      "None\n"
     ]
    }
   ],
   "source": [
    "model = Sequential()\n",
    "\n",
    "model.add(Conv2D(32, kernel_size=(2, 2), input_shape=(128, 128, 3), padding = 'Same'))\n",
    "model.add(Conv2D(32, kernel_size=(2, 2), activation ='relu', padding = 'Same'))\n",
    "\n",
    "\n",
    "model.add(BatchNormalization())\n",
    "model.add(MaxPooling2D(pool_size=(2, 2)))\n",
    "model.add(Dropout(0.25))\n",
    "\n",
    "model.add(Conv2D(64, kernel_size = (2,2), activation ='relu', padding = 'Same'))\n",
    "model.add(Conv2D(64, kernel_size = (2,2), activation ='relu', padding = 'Same'))\n",
    "\n",
    "model.add(BatchNormalization())\n",
    "model.add(MaxPooling2D(pool_size=(2,2), strides=(2,2)))\n",
    "model.add(Dropout(0.25))\n",
    "\n",
    "model.add(Flatten())\n",
    "\n",
    "model.add(Dense(512, activation='relu'))\n",
    "model.add(Dropout(0.5))\n",
    "\n",
    "model.add(Dense(2, activation='softmax'))\n",
    "\n",
    "model.compile(loss = \"categorical_crossentropy\", optimizer='Adamax',metrics=['accuracy'])\n",
    "print(model.summary())"
   ]
  },
  {
   "cell_type": "code",
   "execution_count": 13,
   "id": "1024dc85",
   "metadata": {},
   "outputs": [
    {
     "data": {
      "text/plain": [
       "(1651, 2)"
      ]
     },
     "execution_count": 13,
     "metadata": {},
     "output_type": "execute_result"
    }
   ],
   "source": [
    "y_train.shape"
   ]
  },
  {
   "cell_type": "code",
   "execution_count": 14,
   "id": "99e32d6f",
   "metadata": {},
   "outputs": [
    {
     "name": "stdout",
     "output_type": "stream",
     "text": [
      "Epoch 1/30\n",
      "42/42 [==============================] - 62s 1s/step - loss: 10.4388 - accuracy: 0.6602 - val_loss: 2.2280 - val_accuracy: 0.7094\n",
      "Epoch 2/30\n",
      "42/42 [==============================] - 56s 1s/step - loss: 1.5429 - accuracy: 0.7795 - val_loss: 1.0343 - val_accuracy: 0.7312\n",
      "Epoch 3/30\n",
      "42/42 [==============================] - 62s 1s/step - loss: 0.5119 - accuracy: 0.8462 - val_loss: 0.6154 - val_accuracy: 0.7433\n",
      "Epoch 4/30\n",
      "42/42 [==============================] - 60s 1s/step - loss: 0.2897 - accuracy: 0.8928 - val_loss: 0.6047 - val_accuracy: 0.7748\n",
      "Epoch 5/30\n",
      "42/42 [==============================] - 55s 1s/step - loss: 0.2471 - accuracy: 0.9110 - val_loss: 0.6586 - val_accuracy: 0.7869\n",
      "Epoch 6/30\n",
      "42/42 [==============================] - 55s 1s/step - loss: 0.1782 - accuracy: 0.9322 - val_loss: 0.7471 - val_accuracy: 0.7990\n",
      "Epoch 7/30\n",
      "42/42 [==============================] - 56s 1s/step - loss: 0.1369 - accuracy: 0.9515 - val_loss: 0.8198 - val_accuracy: 0.7942\n",
      "Epoch 8/30\n",
      "42/42 [==============================] - 57s 1s/step - loss: 0.1211 - accuracy: 0.9576 - val_loss: 0.8842 - val_accuracy: 0.7942\n",
      "Epoch 9/30\n",
      "42/42 [==============================] - 67s 2s/step - loss: 0.1227 - accuracy: 0.9570 - val_loss: 0.9189 - val_accuracy: 0.7990\n",
      "Epoch 10/30\n",
      "42/42 [==============================] - 58s 1s/step - loss: 0.0918 - accuracy: 0.9697 - val_loss: 0.9510 - val_accuracy: 0.7869\n",
      "Epoch 11/30\n",
      "42/42 [==============================] - 56s 1s/step - loss: 0.0818 - accuracy: 0.9752 - val_loss: 0.9714 - val_accuracy: 0.8111\n",
      "Epoch 12/30\n",
      "42/42 [==============================] - 55s 1s/step - loss: 0.0660 - accuracy: 0.9812 - val_loss: 1.1130 - val_accuracy: 0.7772\n",
      "Epoch 13/30\n",
      "42/42 [==============================] - 54s 1s/step - loss: 0.0547 - accuracy: 0.9855 - val_loss: 1.0773 - val_accuracy: 0.8063\n",
      "Epoch 14/30\n",
      "42/42 [==============================] - 55s 1s/step - loss: 0.0415 - accuracy: 0.9909 - val_loss: 1.1808 - val_accuracy: 0.7990\n",
      "Epoch 15/30\n",
      "42/42 [==============================] - 54s 1s/step - loss: 0.0513 - accuracy: 0.9836 - val_loss: 1.1233 - val_accuracy: 0.7893\n",
      "Epoch 16/30\n",
      "42/42 [==============================] - 53s 1s/step - loss: 0.0429 - accuracy: 0.9885 - val_loss: 1.2039 - val_accuracy: 0.7990\n",
      "Epoch 17/30\n",
      "42/42 [==============================] - 52s 1s/step - loss: 0.0364 - accuracy: 0.9891 - val_loss: 1.2215 - val_accuracy: 0.7893\n",
      "Epoch 18/30\n",
      "42/42 [==============================] - 53s 1s/step - loss: 0.0283 - accuracy: 0.9915 - val_loss: 1.2305 - val_accuracy: 0.7942\n",
      "Epoch 19/30\n",
      "42/42 [==============================] - 53s 1s/step - loss: 0.0283 - accuracy: 0.9903 - val_loss: 1.2929 - val_accuracy: 0.8063\n",
      "Epoch 20/30\n",
      "42/42 [==============================] - 53s 1s/step - loss: 0.0218 - accuracy: 0.9945 - val_loss: 1.2545 - val_accuracy: 0.7942\n",
      "Epoch 21/30\n",
      "42/42 [==============================] - 52s 1s/step - loss: 0.0344 - accuracy: 0.9903 - val_loss: 1.1963 - val_accuracy: 0.7990\n",
      "Epoch 22/30\n",
      "42/42 [==============================] - 53s 1s/step - loss: 0.0244 - accuracy: 0.9952 - val_loss: 1.3404 - val_accuracy: 0.7990\n",
      "Epoch 23/30\n",
      "42/42 [==============================] - 53s 1s/step - loss: 0.0301 - accuracy: 0.9891 - val_loss: 1.2227 - val_accuracy: 0.7966\n",
      "Epoch 24/30\n",
      "42/42 [==============================] - 52s 1s/step - loss: 0.0239 - accuracy: 0.9921 - val_loss: 1.2692 - val_accuracy: 0.7893\n",
      "Epoch 25/30\n",
      "42/42 [==============================] - 53s 1s/step - loss: 0.0162 - accuracy: 0.9945 - val_loss: 1.3223 - val_accuracy: 0.7918\n",
      "Epoch 26/30\n",
      "42/42 [==============================] - 52s 1s/step - loss: 0.0240 - accuracy: 0.9933 - val_loss: 1.2406 - val_accuracy: 0.7942\n",
      "Epoch 27/30\n",
      "42/42 [==============================] - 52s 1s/step - loss: 0.0131 - accuracy: 0.9970 - val_loss: 1.3540 - val_accuracy: 0.7821\n",
      "Epoch 28/30\n",
      "42/42 [==============================] - 53s 1s/step - loss: 0.0209 - accuracy: 0.9927 - val_loss: 1.3086 - val_accuracy: 0.8039\n",
      "Epoch 29/30\n",
      "42/42 [==============================] - 53s 1s/step - loss: 0.0149 - accuracy: 0.9964 - val_loss: 1.2941 - val_accuracy: 0.8063\n",
      "Epoch 30/30\n",
      "42/42 [==============================] - 53s 1s/step - loss: 0.0086 - accuracy: 0.9982 - val_loss: 1.3884 - val_accuracy: 0.8015\n"
     ]
    }
   ],
   "source": [
    "history = model.fit(x_train, y_train, epochs = 30, batch_size = 40, verbose = 1,validation_data = (x_test, y_test))"
   ]
  },
  {
   "cell_type": "code",
   "execution_count": 15,
   "id": "50e7712e",
   "metadata": {},
   "outputs": [
    {
     "data": {
      "image/png": "[encoded data removed]",
      "text/plain": [
       "<Figure size 432x288 with 1 Axes>"
      ]
     },
     "metadata": {
      "needs_background": "light"
     },
     "output_type": "display_data"
    }
   ],
   "source": [
    "plt.plot(history.history['loss'])\n",
    "plt.plot(history.history['val_loss'])\n",
    "plt.title('Model Loss')\n",
    "plt.ylabel('Loss')\n",
    "plt.xlabel('Epoch')\n",
    "plt.legend(['Test', 'Validation'], loc='upper right')\n",
    "plt.show()"
   ]
  },
  {
   "cell_type": "code",
   "execution_count": 16,
   "id": "e18b33cd",
   "metadata": {},
   "outputs": [
    {
     "data": {
      "image/png": "[encoded data removed]",
      "text/plain": [
       "<Figure size 432x288 with 1 Axes>"
      ]
     },
     "metadata": {
      "needs_background": "light"
     },
     "output_type": "display_data"
    }
   ],
   "source": [
    "plt.plot(history.history[\"accuracy\"],c=\"purple\")\n",
    "plt.plot(history.history[\"val_accuracy\"],c=\"orange\")\n",
    "plt.title(\"Model Accuracy\")\n",
    "plt.ylabel(\"Accuracy\")\n",
    "plt.xlabel(\"Epochs\")\n",
    "plt.legend([\"train\",\"test\"])\n",
    "plt.show()"
   ]
  },
  {
   "cell_type": "code",
   "execution_count": 22,
   "id": "7951dcce",
   "metadata": {},
   "outputs": [
    {
     "name": "stdout",
     "output_type": "stream",
     "text": [
      "INFO:tensorflow:Assets written to: final_model_2\\assets\n"
     ]
    }
   ],
   "source": [
    "model.save('final_model_2')"
   ]
  },
  {
   "cell_type": "code",
   "execution_count": 23,
   "id": "4ae47a90",
   "metadata": {},
   "outputs": [],
   "source": [
    "model2 = keras.models.load_model('final_model_2')"
   ]
  },
  {
   "cell_type": "markdown",
   "id": "54a2ea28",
   "metadata": {},
   "source": [
    "# Model Checking"
   ]
  },
  {
   "cell_type": "code",
   "execution_count": 24,
   "id": "cecb1a87",
   "metadata": {},
   "outputs": [],
   "source": [
    "def names(number):\n",
    "    if number==0:\n",
    "        return 'Its a Tumor'\n",
    "    else:\n",
    "        return 'Its NOT a Tumor'"
   ]
  },
  {
   "cell_type": "code",
   "execution_count": 27,
   "id": "29f26748",
   "metadata": {
    "scrolled": true
   },
   "outputs": [
    {
     "name": "stdout",
     "output_type": "stream",
     "text": [
      "Its a Tumor\n"
     ]
    },
    {
     "data": {
      "image/png": "[encoded data removed]",
      "text/plain": [
       "<Figure size 432x288 with 1 Axes>"
      ]
     },
     "metadata": {
      "needs_background": "light"
     },
     "output_type": "display_data"
    }
   ],
   "source": [
    "from matplotlib.pyplot import imshow\n",
    "img = Image.open(r\"./brain_tumor_dataset/augmented-images/yes/aug_Y1_0_6803.jpg\")\n",
    "x = np.array(img.resize((128,128)))\n",
    "x = x.reshape(1,128,128,3)\n",
    "res = model2.predict_on_batch(x)\n",
    "classification = np.where(res == np.amax(res))[1][0]\n",
    "imshow(img)\n",
    "print(names(classification))"
   ]
  },
  {
   "cell_type": "code",
   "execution_count": 28,
   "id": "f2122fea",
   "metadata": {},
   "outputs": [],
   "source": [
    "pred = model2.predict(x_test)"
   ]
  },
  {
   "cell_type": "code",
   "execution_count": 29,
   "id": "9d30f182",
   "metadata": {},
   "outputs": [
    {
     "data": {
      "text/plain": [
       "(413, 2)"
      ]
     },
     "execution_count": 29,
     "metadata": {},
     "output_type": "execute_result"
    }
   ],
   "source": [
    "pred.shape"
   ]
  },
  {
   "cell_type": "code",
   "execution_count": 30,
   "id": "a07be684",
   "metadata": {},
   "outputs": [
    {
     "data": {
      "text/plain": [
       "(413, 2)"
      ]
     },
     "execution_count": 30,
     "metadata": {},
     "output_type": "execute_result"
    }
   ],
   "source": [
    "y_test.shape"
   ]
  },
  {
   "cell_type": "code",
   "execution_count": 31,
   "id": "5d7de3a0",
   "metadata": {},
   "outputs": [
    {
     "data": {
      "text/plain": [
       "numpy.ndarray"
      ]
     },
     "execution_count": 31,
     "metadata": {},
     "output_type": "execute_result"
    }
   ],
   "source": [
    "type(pred)"
   ]
  },
  {
   "cell_type": "code",
   "execution_count": 32,
   "id": "9580fd49",
   "metadata": {},
   "outputs": [
    {
     "data": {
      "text/plain": [
       "numpy.ndarray"
      ]
     },
     "execution_count": 32,
     "metadata": {},
     "output_type": "execute_result"
    }
   ],
   "source": [
    "type(y_test)"
   ]
  },
  {
   "cell_type": "code",
   "execution_count": 33,
   "id": "0ea8719c",
   "metadata": {},
   "outputs": [],
   "source": [
    "y_test_resh=y_test.reshape(1,-1)[0]"
   ]
  },
  {
   "cell_type": "code",
   "execution_count": 34,
   "id": "8b9a4679",
   "metadata": {},
   "outputs": [
    {
     "data": {
      "text/plain": [
       "(826,)"
      ]
     },
     "execution_count": 34,
     "metadata": {},
     "output_type": "execute_result"
    }
   ],
   "source": [
    "y_test_resh.shape"
   ]
  },
  {
   "cell_type": "code",
   "execution_count": 35,
   "id": "4a8530c4",
   "metadata": {},
   "outputs": [],
   "source": [
    "from sklearn.metrics import confusion_matrix\n",
    "from sklearn.metrics import classification_report"
   ]
  },
  {
   "cell_type": "code",
   "execution_count": 36,
   "id": "884661da",
   "metadata": {},
   "outputs": [],
   "source": [
    "cf_matrix = confusion_matrix(np.argmax(y_test, axis=1), np.argmax(pred, axis=1))"
   ]
  },
  {
   "cell_type": "code",
   "execution_count": 37,
   "id": "84d552bc",
   "metadata": {},
   "outputs": [
    {
     "data": {
      "image/png": "[encoded data removed]",
      "text/plain": [
       "<Figure size 540x540 with 1 Axes>"
      ]
     },
     "metadata": {
      "needs_background": "light"
     },
     "output_type": "display_data"
    }
   ],
   "source": [
    "fig, ax = plt.subplots(figsize=(7.5, 7.5))\n",
    "ax.matshow(cf_matrix, cmap=plt.cm.Blues, alpha=0.3)\n",
    "for i in range(cf_matrix.shape[0]):\n",
    "    for j in range(cf_matrix.shape[1]):\n",
    "        ax.text(x=j, y=i,s=cf_matrix[i, j], va='center', ha='center', size='xx-large')\n",
    " \n",
    "plt.xlabel('Predictions', fontsize=18)\n",
    "plt.ylabel('Actuals', fontsize=18)\n",
    "plt.title('Confusion Matrix', fontsize=18)\n",
    "plt.show()"
   ]
  },
  {
   "cell_type": "markdown",
   "id": "72be31f9",
   "metadata": {},
   "source": [
    "# Classification Report"
   ]
  },
  {
   "cell_type": "code",
   "execution_count": 38,
   "id": "452faab3",
   "metadata": {},
   "outputs": [],
   "source": [
    "classification_report = classification_report(np.argmax(y_test, axis=1), np.argmax(pred, axis=1))"
   ]
  },
  {
   "cell_type": "code",
   "execution_count": 39,
   "id": "743ffa95",
   "metadata": {},
   "outputs": [],
   "source": [
    "import matplotlib.pyplot as plt\n",
    "import numpy as np\n",
    "\n",
    "def show_values(pc, fmt=\"%.2f\", **kw):\n",
    "    \n",
    "    pc.update_scalarmappable()\n",
    "    ax = pc.axes\n",
    "    #ax = pc.axes# FOR LATEST MATPLOTLIB\n",
    "    #Use zip BELOW IN PYTHON 3\n",
    "    for p, color, value in zip(pc.get_paths(), pc.get_facecolors(), pc.get_array()):\n",
    "        x, y = p.vertices[:-2, :].mean(0)\n",
    "        if np.all(color[:3] > 0.5):\n",
    "            color = (0.0, 0.0, 0.0)\n",
    "        else:\n",
    "            color = (1.0, 1.0, 1.0)\n",
    "        ax.text(x, y, fmt % value, ha=\"center\", va=\"center\", color=color, **kw)\n",
    "\n",
    "\n",
    "def cm2inch(*tupl):\n",
    "    \n",
    "    inch = 2.54\n",
    "    if type(tupl[0]) == tuple:\n",
    "        return tuple(i/inch for i in tupl[0])\n",
    "    else:\n",
    "        return tuple(i/inch for i in tupl)\n",
    "\n",
    "\n",
    "def heatmap(AUC, title, xlabel, ylabel, xticklabels, yticklabels, figure_width=40, figure_height=20, correct_orientation=False, cmap='RdBu'):\n",
    "    \n",
    "    # Plot it out\n",
    "    fig, ax = plt.subplots()    \n",
    "    #c = ax.pcolor(AUC, edgecolors='k', linestyle= 'dashed', linewidths=0.2, cmap='RdBu', vmin=0.0, vmax=1.0)\n",
    "    c = ax.pcolor(AUC, edgecolors='k', linestyle= 'dashed', linewidths=0.2, cmap=cmap, vmin=0.0, vmax=1.0)\n",
    "\n",
    "    # put the major ticks at the middle of each cell\n",
    "    ax.set_yticks(np.arange(AUC.shape[0]) + 0.5, minor=False)\n",
    "    ax.set_xticks(np.arange(AUC.shape[1]) + 0.5, minor=False)\n",
    "\n",
    "    # set tick labels\n",
    "    #ax.set_xticklabels(np.arange(1,AUC.shape[1]+1), minor=False)\n",
    "    ax.set_xticklabels(xticklabels, minor=False)\n",
    "    ax.set_yticklabels(yticklabels, minor=False)\n",
    "\n",
    "    # set title and x/y labels\n",
    "    plt.title(title, y=1.25)\n",
    "    plt.xlabel(xlabel)\n",
    "    plt.ylabel(ylabel)      \n",
    "\n",
    "    # Remove last blank column\n",
    "    plt.xlim( (0, AUC.shape[1]) )\n",
    "\n",
    "    # Turn off all the ticks\n",
    "    ax = plt.gca()    \n",
    "    for t in ax.xaxis.get_major_ticks():\n",
    "        t.tick1line.set_visible(False)\n",
    "        t.tick2line.set_visible(False)\n",
    "    for t in ax.yaxis.get_major_ticks():\n",
    "        t.tick1line.set_visible(False)\n",
    "        t.tick2line.set_visible(False)\n",
    "\n",
    "    # Add color bar\n",
    "    plt.colorbar(c)\n",
    "\n",
    "    # Add text in each cell \n",
    "    show_values(c)\n",
    "\n",
    "    # Proper orientation (origin at the top left instead of bottom left)\n",
    "    if correct_orientation:\n",
    "        ax.invert_yaxis()\n",
    "        ax.xaxis.tick_top()       \n",
    "\n",
    "    # resize \n",
    "    fig = plt.gcf()\n",
    "    #fig.set_size_inches(cm2inch(40, 20))\n",
    "    #fig.set_size_inches(cm2inch(40*4, 20*4))\n",
    "    fig.set_size_inches(cm2inch(figure_width, figure_height))\n",
    "\n",
    "\n",
    "\n",
    "def plot_classification_report(classification_report, number_of_classes=2, title='Classification report ', cmap='RdYlGn'):\n",
    "    \n",
    "    lines = classification_report.split('\\n')\n",
    "    \n",
    "    #drop initial lines\n",
    "    lines = lines[2:]\n",
    "\n",
    "    classes = []\n",
    "    plotMat = []\n",
    "    support = []\n",
    "    class_names = []\n",
    "    for line in lines[: number_of_classes]:\n",
    "        t = list(filter(None, line.strip().split('  ')))\n",
    "        if len(t) < 4: continue\n",
    "        classes.append(t[0])\n",
    "        v = [float(x) for x in t[1: len(t) - 1]]\n",
    "        support.append(int(t[-1]))\n",
    "        class_names.append(t[0])\n",
    "        plotMat.append(v)\n",
    "\n",
    "\n",
    "    xlabel = 'Metrics'\n",
    "    ylabel = 'Classes'\n",
    "    xticklabels = ['Precision', 'Recall', 'F1-score']\n",
    "    yticklabels = ['{0} ({1})'.format(class_names[idx], sup) for idx, sup  in enumerate(support)]\n",
    "    figure_width = 10\n",
    "    figure_height = len(class_names) + 3\n",
    "    correct_orientation = True\n",
    "    heatmap(np.array(plotMat), title, xlabel, ylabel, xticklabels, yticklabels, figure_width, figure_height, correct_orientation, cmap=cmap)\n",
    "    plt.show()"
   ]
  },
  {
   "cell_type": "code",
   "execution_count": 40,
   "id": "fc087bfc",
   "metadata": {},
   "outputs": [
    {
     "data": {
      "image/png": "[encoded data removed]",
      "text/plain": [
       "<Figure size 283.465x141.732 with 2 Axes>"
      ]
     },
     "metadata": {
      "needs_background": "light"
     },
     "output_type": "display_data"
    }
   ],
   "source": [
    "plot_classification_report(classification_report, number_of_classes=2, title='Classification report ', cmap='RdYlGn')"
   ]
  }
 ],
 "metadata": {
  "kernelspec": {
   "display_name": "Python 3 (ipykernel)",
   "language": "python",
   "name": "python3"
  },
  "language_info": {
   "codemirror_mode": {
    "name": "ipython",
    "version": 3
   },
   "file_extension": ".py",
   "mimetype": "text/x-python",
   "name": "python",
   "nbconvert_exporter": "python",
   "pygments_lexer": "ipython3",
   "version": "3.9.7"
  }
 },
 "nbformat": 4,
 "nbformat_minor": 5
}
